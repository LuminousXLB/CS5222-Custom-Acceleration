{
 "cells": [
  {
   "cell_type": "code",
   "execution_count": 1,
   "metadata": {},
   "outputs": [
    {
     "data": {
      "application/javascript": [
       "\n",
       "try {\n",
       "require(['notebook/js/codecell'], function(codecell) {\n",
       "  codecell.CodeCell.options_default.highlight_modes[\n",
       "      'magic_text/x-csrc'] = {'reg':[/^%%microblaze/]};\n",
       "  Jupyter.notebook.events.one('kernel_ready.Kernel', function(){\n",
       "      Jupyter.notebook.get_cells().map(function(cell){\n",
       "          if (cell.cell_type == 'code'){ cell.auto_highlight(); } }) ;\n",
       "  });\n",
       "});\n",
       "} catch (e) {};\n"
      ]
     },
     "metadata": {},
     "output_type": "display_data"
    },
    {
     "data": {
      "application/javascript": [
       "\n",
       "try {\n",
       "require(['notebook/js/codecell'], function(codecell) {\n",
       "  codecell.CodeCell.options_default.highlight_modes[\n",
       "      'magic_text/x-csrc'] = {'reg':[/^%%pybind11/]};\n",
       "  Jupyter.notebook.events.one('kernel_ready.Kernel', function(){\n",
       "      Jupyter.notebook.get_cells().map(function(cell){\n",
       "          if (cell.cell_type == 'code'){ cell.auto_highlight(); } }) ;\n",
       "  });\n",
       "});\n",
       "} catch (e) {};\n"
      ]
     },
     "metadata": {},
     "output_type": "display_data"
    }
   ],
   "source": [
    "from pynq import Overlay\n",
    "from pynq import allocate\n",
    "from pynq import MMIO\n",
    "import numpy as np\n",
    "from time import time\n",
    "from tqdm import tqdm\n",
    "import cffi\n",
    "\n",
    "ffi = cffi.FFI()"
   ]
  },
  {
   "cell_type": "code",
   "execution_count": 2,
   "metadata": {},
   "outputs": [
    {
     "data": {
      "text/plain": [
       "'0x81'"
      ]
     },
     "execution_count": 2,
     "metadata": {},
     "output_type": "execute_result"
    }
   ],
   "source": [
    "# Prepare the custome overlay and DMA\n",
    "ol = Overlay(\"/home/xilinx/classifier.bit\")\n",
    "ol.download()\n",
    "\n",
    "dma_mm2s = ol.axi_dma_0\n",
    "dma_s2mm = ol.axi_dma_1\n",
    "\n",
    "# Accelerator Base Address\n",
    "ACCEL_CTRL = 0x43C00000\n",
    "\n",
    "# Initialize HLS IP\n",
    "mmult_ip = MMIO(ACCEL_CTRL, 0x10000)\n",
    "\n",
    "# Start the accelerator\n",
    "ctrl = mmult_ip.read(0x00) & 0x08\n",
    "mmult_ip.write(0x00, (ctrl | 0x81))\n",
    "ctrl = mmult_ip.read(0x00)\n",
    "hex(ctrl)"
   ]
  },
  {
   "cell_type": "code",
   "execution_count": 3,
   "metadata": {},
   "outputs": [],
   "source": [
    "# Classifier Dimensions\n",
    "BATCH = 8192\n",
    "FEAT = 64\n",
    "HIDDEN = 16\n",
    "CLASSES = 10\n",
    "\n",
    "AXI_WIDTH = 256\n",
    "AXI_WIDTH_BYTES = AXI_WIDTH // 8\n",
    "\n",
    "\n",
    "def inv(val, mod):\n",
    "    return (mod - (val % mod)) % mod\n",
    "\n",
    "\n",
    "def serialize(offset, weight1, weight2, inputs):\n",
    "    # Pack Offset\n",
    "    assert offset.dtype == np.int16\n",
    "    assert offset.shape == (CLASSES,)\n",
    "    bo = offset.flatten().tobytes() + b\"\\x00\" * inv(2 * CLASSES, AXI_WIDTH_BYTES)\n",
    "    assert len(bo) == AXI_WIDTH_BYTES\n",
    "\n",
    "    # Pack Weight1 (int8)\n",
    "    assert weight1.dtype == np.int8\n",
    "    assert weight1.shape == (HIDDEN, FEAT)\n",
    "    assert len(weight1[0].tobytes()) % AXI_WIDTH_BYTES == 0\n",
    "    bw1 = weight1.flatten().tobytes()\n",
    "\n",
    "    # Pack Weight2 (int8)\n",
    "    assert weight2.dtype == np.int8\n",
    "    assert weight2.shape == (CLASSES, HIDDEN)\n",
    "    assert len(weight2[0].tobytes()) * 2 == AXI_WIDTH_BYTES\n",
    "    bw2 = weight2.flatten().tobytes()\n",
    "\n",
    "    # Pack Input (uint4)\n",
    "    assert inputs.dtype == np.uint8\n",
    "    assert inputs.shape == (BATCH, FEAT)\n",
    "    assert len(weight1[0].tobytes()) % AXI_WIDTH_BYTES == 0\n",
    "    bi_wide = inputs.flatten().tobytes()\n",
    "    bi = bytearray(\n",
    "        (bi_wide[i] << 4) | bi_wide[i + 1] for i in range(0, len(bi_wide), 2)\n",
    "    )\n",
    "    assert len(bi) == BATCH * FEAT // 2\n",
    "    assert len(bi) % AXI_WIDTH_BYTES == 0\n",
    "\n",
    "    return bo + bw1 + bw2 + bi\n",
    "\n",
    "\n",
    "OUT_WIDTH = CLASSES + inv(CLASSES, AXI_WIDTH_BYTES // 2)\n",
    "\n",
    "\n",
    "def deserialize(output: np.array):\n",
    "    assert output.dtype == np.int16\n",
    "    output = output.reshape(BATCH, OUT_WIDTH)[:, :CLASSES]\n",
    "    assert output.shape == (BATCH, CLASSES)\n",
    "    return np.argmax(output, axis=1)"
   ]
  },
  {
   "cell_type": "code",
   "execution_count": 4,
   "metadata": {},
   "outputs": [],
   "source": [
    "# Initialize offsets, weights and inputs\n",
    "test_input = np.load(\"test_data_custom.npy\")[0:BATCH]\n",
    "o = np.load(\"model_bias_custom.npy\")\n",
    "w1 = np.load(\"model_weight1_custom.npy\")\n",
    "w2 = np.load(\"model_weight2_custom.npy\")\n",
    "test_label = np.load(\"test_label_custom.npy\")[0:BATCH]"
   ]
  },
  {
   "cell_type": "code",
   "execution_count": 5,
   "metadata": {},
   "outputs": [],
   "source": [
    "# Move offset, weight and input data to DMA buffer\n",
    "ibuf = serialize(o, w1.transpose(), w2.transpose(), test_input)\n",
    "\n",
    "mm2s_buffer = allocate(shape=(len(ibuf),), dtype=np.uint8)\n",
    "s2mm_buffer = allocate(shape=(BATCH * OUT_WIDTH,), dtype=np.int16)\n",
    "\n",
    "ffi.memmove(mm2s_buffer[:], ibuf, len(ibuf))\n",
    "mm2s_buffer.flush()"
   ]
  },
  {
   "cell_type": "code",
   "execution_count": 6,
   "metadata": {},
   "outputs": [],
   "source": [
    "# Perform FPGA offloading\n",
    "def fpga_test():\n",
    "    start_t = time()\n",
    "    dma_mm2s.sendchannel.transfer(mm2s_buffer)\n",
    "    dma_s2mm.recvchannel.transfer(s2mm_buffer)\n",
    "    dma_mm2s.sendchannel.wait()\n",
    "    dma_s2mm.recvchannel.wait()\n",
    "    fpga_time = time() - start_t\n",
    "\n",
    "    # Dump FPGA result to a numpy array\n",
    "    pred = deserialize(np.array(s2mm_buffer))\n",
    "    return pred, fpga_time"
   ]
  },
  {
   "cell_type": "code",
   "execution_count": 7,
   "metadata": {},
   "outputs": [],
   "source": [
    "# Test on CPU\n",
    "def cpu_test():\n",
    "    def predict(inputs, w1, w2, b):\n",
    "        hid = inputs @ w1\n",
    "        hid = hid * (hid > 0)\n",
    "        out = hid @ w2 + b\n",
    "        return out\n",
    "\n",
    "    start_t = time()\n",
    "    out = predict(test_input, w1, w2, o)\n",
    "    cpu_time = time() - start_t\n",
    "\n",
    "    pred = np.argmax(out, axis=1)\n",
    "    return pred, cpu_time"
   ]
  },
  {
   "cell_type": "code",
   "execution_count": 8,
   "metadata": {},
   "outputs": [
    {
     "name": "stderr",
     "output_type": "stream",
     "text": [
      "100%|██████████| 128/128 [00:23<00:00,  5.39it/s]\n"
     ]
    },
    {
     "data": {
      "text/plain": [
       "(3.8465507759535607, 169.12117871371183)"
      ]
     },
     "execution_count": 8,
     "metadata": {},
     "output_type": "execute_result"
    }
   ],
   "source": [
    "def reject_outliers(arr):\n",
    "    s = arr.std()\n",
    "    m = arr.mean()\n",
    "    return (arr < m + 2 * s) & (arr > m - 2 * s)\n",
    "\n",
    "\n",
    "perf_f = []\n",
    "perf_c = []\n",
    "\n",
    "for _ in tqdm(range(128)):\n",
    "    pred_f, time_f = fpga_test()\n",
    "    pred_c, time_c = cpu_test()\n",
    "    perf_f.append(time_f)\n",
    "    perf_c.append(time_c)\n",
    "\n",
    "# change to ms\n",
    "perf_f = np.array(perf_f) * 1000\n",
    "perf_c = np.array(perf_c) * 1000\n",
    "\n",
    "# reject outliers\n",
    "mask = reject_outliers(perf_c) & reject_outliers(perf_f)\n",
    "perf_f = perf_f[mask]\n",
    "perf_c = perf_c[mask]\n",
    "\n",
    "# calculate means\n",
    "time_f = perf_f.mean()\n",
    "time_c = perf_c.mean()\n",
    "time_f, time_c"
   ]
  },
  {
   "cell_type": "code",
   "execution_count": 9,
   "metadata": {},
   "outputs": [
    {
     "data": {
      "image/png": "[encoded data removed]",
      "text/plain": [
       "<Figure size 960x600 with 1 Axes>"
      ]
     },
     "metadata": {
      "needs_background": "light"
     },
     "output_type": "display_data"
    }
   ],
   "source": [
    "def stat():\n",
    "    from matplotlib import pyplot as plt\n",
    "\n",
    "    fig, ax = plt.subplots(figsize=(8, 5), dpi=120)\n",
    "    ax.scatter(perf_f, perf_c)\n",
    "    ax.set_xlabel(\"Time used on FPGA (ms)\")\n",
    "    ax.set_ylabel(\"Time used on CPU (ms)\")\n",
    "\n",
    "    return fig\n",
    "\n",
    "\n",
    "fig = stat()\n",
    "fig.tight_layout()"
   ]
  },
  {
   "cell_type": "code",
   "execution_count": 11,
   "metadata": {
    "collapsed": false,
    "deletable": true,
    "editable": true,
    "jupyter": {
     "outputs_hidden": false
    }
   },
   "outputs": [
    {
     "name": "stdout",
     "output_type": "stream",
     "text": [
      "FPGA accuracy: 88.18% validation accuracy\n",
      "CPU  accuracy: 88.18% validation accuracy\n",
      "FPGA has a 43.97x speedup\n"
     ]
    }
   ],
   "source": [
    "# Evaluate validation accuracy\n",
    "errors_c = np.sum(pred_c == test_label)\n",
    "errors_f = np.sum(pred_f == test_label)\n",
    "\n",
    "# Report results\n",
    "print(\"FPGA accuracy: {0:.2f}% validation accuracy\".format(errors_f / BATCH * 100))\n",
    "print(\"CPU  accuracy: {0:.2f}% validation accuracy\".format(errors_c / BATCH * 100))\n",
    "if time_c < time_f:\n",
    "    print(\"FPGA has a {0:.2f}x slowdown\".format(time_f / time_c))\n",
    "else:\n",
    "    print(\"FPGA has a {0:.2f}x speedup\".format(time_c / time_f))"
   ]
  },
  {
   "cell_type": "code",
   "execution_count": null,
   "metadata": {},
   "outputs": [],
   "source": []
  }
 ],
 "metadata": {
  "kernelspec": {
   "display_name": "Python 3",
   "language": "python",
   "name": "python3"
  },
  "language_info": {
   "codemirror_mode": {
    "name": "ipython",
    "version": 3
   },
   "file_extension": ".py",
   "mimetype": "text/x-python",
   "name": "python",
   "nbconvert_exporter": "python",
   "pygments_lexer": "ipython3",
   "version": "3.8.2"
  }
 },
 "nbformat": 4,
 "nbformat_minor": 4
}

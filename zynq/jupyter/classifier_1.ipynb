{
 "cells": [
  {
   "cell_type": "code",
   "execution_count": 1,
   "id": "28e77b76-2feb-47e0-838a-b210c50e9fb6",
   "metadata": {},
   "outputs": [
    {
     "data": {
      "application/javascript": [
       "\n",
       "try {\n",
       "require(['notebook/js/codecell'], function(codecell) {\n",
       "  codecell.CodeCell.options_default.highlight_modes[\n",
       "      'magic_text/x-csrc'] = {'reg':[/^%%microblaze/]};\n",
       "  Jupyter.notebook.events.one('kernel_ready.Kernel', function(){\n",
       "      Jupyter.notebook.get_cells().map(function(cell){\n",
       "          if (cell.cell_type == 'code'){ cell.auto_highlight(); } }) ;\n",
       "  });\n",
       "});\n",
       "} catch (e) {};\n"
      ]
     },
     "metadata": {},
     "output_type": "display_data"
    },
    {
     "data": {
      "application/javascript": [
       "\n",
       "try {\n",
       "require(['notebook/js/codecell'], function(codecell) {\n",
       "  codecell.CodeCell.options_default.highlight_modes[\n",
       "      'magic_text/x-csrc'] = {'reg':[/^%%pybind11/]};\n",
       "  Jupyter.notebook.events.one('kernel_ready.Kernel', function(){\n",
       "      Jupyter.notebook.get_cells().map(function(cell){\n",
       "          if (cell.cell_type == 'code'){ cell.auto_highlight(); } }) ;\n",
       "  });\n",
       "});\n",
       "} catch (e) {};\n"
      ]
     },
     "metadata": {},
     "output_type": "display_data"
    }
   ],
   "source": [
    "from pynq import Overlay\n",
    "from pynq import allocate\n",
    "from pynq import MMIO\n",
    "import numpy as np\n",
    "from time import time\n",
    "from tqdm import tqdm"
   ]
  },
  {
   "cell_type": "code",
   "execution_count": 2,
   "id": "ac6837e3-07ee-4339-860a-855137e0a502",
   "metadata": {},
   "outputs": [
    {
     "data": {
      "text/plain": [
       "'0x81'"
      ]
     },
     "execution_count": 2,
     "metadata": {},
     "output_type": "execute_result"
    }
   ],
   "source": [
    "# Prepare the custome overlay and DMA\n",
    "ol = Overlay(\"/home/xilinx/classifier.bit\")\n",
    "ol.download()\n",
    "\n",
    "dma_mm2s = ol.axi_dma_0\n",
    "dma_s2mm = ol.axi_dma_1\n",
    "\n",
    "# Accelerator Base Address\n",
    "ACCEL_CTRL = 0x43C00000\n",
    "\n",
    "# Initialize HLS IP\n",
    "mmult_ip = MMIO(ACCEL_CTRL, 0x10000)\n",
    "\n",
    "# Start the accelerator\n",
    "ctrl = mmult_ip.read(0x00) & 0x08\n",
    "mmult_ip.write(0x00, (ctrl | 0x81))\n",
    "ctrl = mmult_ip.read(0x00)\n",
    "hex(ctrl)"
   ]
  },
  {
   "cell_type": "code",
   "execution_count": 3,
   "id": "486d35e8-03d5-47e2-a184-708706585141",
   "metadata": {},
   "outputs": [],
   "source": [
    "# Classifier Dimensions\n",
    "BATCH = 2048\n",
    "FEAT = 256\n",
    "CLASSES = 10\n",
    "\n",
    "# Initialize offsets, weights and inputs\n",
    "o = np.load(\"model_offsets.npy\").astype(np.float32)\n",
    "w = np.load(\"model_weights.npy\").astype(np.float32)\n",
    "i = np.load(\"test_data.npy\").astype(np.float32)\n",
    "l = np.load(\"test_labels.npy\").astype(np.float32)\n",
    "\n",
    "# Sample BATCHSIZE test samples from the MNIST test dataset\n",
    "np.random.seed(0xCAFEBEEF)\n",
    "ridx = np.random.choice(np.arange(len(i)), BATCH, replace=False)\n",
    "i = i[ridx]\n",
    "l = l[ridx]"
   ]
  },
  {
   "cell_type": "code",
   "execution_count": 4,
   "id": "59118001-cb25-4639-8f12-59420d2e0fb3",
   "metadata": {},
   "outputs": [],
   "source": [
    "# Move offset, weight and input data to DMA buffer\n",
    "input_buffer = allocate(\n",
    "    shape=(CLASSES + CLASSES * FEAT + BATCH * FEAT,), dtype=np.float32\n",
    ")\n",
    "output_buffer = allocate(shape=(BATCH * CLASSES,), dtype=np.float32)\n",
    "\n",
    "input_buffer[:] = [*o, *w.flatten(), *i.flatten()]\n",
    "input_buffer.flush()\n",
    "\n",
    "\n",
    "def fpga_test():\n",
    "    # Perform FPGA offloading\n",
    "    start_t = time()\n",
    "    dma_mm2s.sendchannel.transfer(input_buffer)\n",
    "    dma_s2mm.recvchannel.transfer(output_buffer)\n",
    "    dma_mm2s.sendchannel.wait()\n",
    "    dma_s2mm.recvchannel.wait()\n",
    "    fpga_time = time() - start_t\n",
    "\n",
    "    # Dump FPGA result to a numpy array\n",
    "    c = np.reshape(np.array(output_buffer), (BATCH, CLASSES))\n",
    "    return c, fpga_time"
   ]
  },
  {
   "cell_type": "code",
   "execution_count": 5,
   "id": "a5e4205f-fc86-4ca2-b3c2-4588cf57da0a",
   "metadata": {},
   "outputs": [],
   "source": [
    "# Prepare input and weight matrices for matrix multiplication on CPU\n",
    "ones = np.ones(BATCH).reshape((BATCH, 1))\n",
    "i_p = np.append(ones, i, axis=1)\n",
    "w_p = np.append(o.reshape(CLASSES, 1), w, axis=1)\n",
    "\n",
    "\n",
    "def cpu_test():\n",
    "    # Compute CPU result\n",
    "    start_t = time()\n",
    "    c_ref = np.dot(i_p, w_p.T)\n",
    "    cpu_time = time() - start_t\n",
    "    return c_ref, cpu_time"
   ]
  },
  {
   "cell_type": "code",
   "execution_count": 6,
   "id": "db52d3a3-6dc8-449f-ab5b-6652f38dfe30",
   "metadata": {},
   "outputs": [
    {
     "name": "stderr",
     "output_type": "stream",
     "text": [
      "100%|██████████| 32/32 [00:03<00:00, 10.24it/s]\n"
     ]
    }
   ],
   "source": [
    "fpga_perf = []\n",
    "cpu_perf = []\n",
    "\n",
    "for _ in tqdm(range(32)):\n",
    "    c, fpga_time = fpga_test()\n",
    "    c_ref, cpu_time = cpu_test()\n",
    "    fpga_perf.append(fpga_time)\n",
    "    cpu_perf.append(cpu_time)\n",
    "\n",
    "fpga_perf = np.array(fpga_perf) * 1000\n",
    "cpu_perf = np.array(cpu_perf) * 1000\n",
    "fpga_time = fpga_perf.mean()\n",
    "cpu_time = cpu_perf.mean()"
   ]
  },
  {
   "cell_type": "code",
   "execution_count": 7,
   "id": "190ab084-de08-4c42-b458-9a3876e94c84",
   "metadata": {},
   "outputs": [
    {
     "data": {
      "image/png": "[encoded data removed]",
      "text/plain": [
       "<Figure size 960x600 with 1 Axes>"
      ]
     },
     "metadata": {
      "needs_background": "light"
     },
     "output_type": "display_data"
    }
   ],
   "source": [
    "def stat():\n",
    "    from matplotlib import pyplot as plt\n",
    "\n",
    "    fig, ax = plt.subplots(figsize=(8, 5), dpi=120)\n",
    "    ax.scatter(fpga_perf, cpu_perf)\n",
    "    ax.set_xlabel(\"Time used on FPGA (ms)\")\n",
    "    ax.set_ylabel(\"Time used on CPU (ms)\")\n",
    "\n",
    "    x = np.linspace(int(fpga_perf.min()), int(fpga_perf.max() + 0.5), 2)\n",
    "    ax.plot(x, 6.7 * x)\n",
    "\n",
    "    return fig\n",
    "\n",
    "\n",
    "fig = stat()\n",
    "fig.tight_layout()"
   ]
  },
  {
   "cell_type": "code",
   "execution_count": 8,
   "id": "27a3c3e7-298c-4a60-8a18-7939929a74d6",
   "metadata": {},
   "outputs": [
    {
     "name": "stdout",
     "output_type": "stream",
     "text": [
      "FPGA accuracy: 13.04% validation error\n",
      "CPU  accuracy: 13.04% validation error\n",
      "FPGA has a 4.83x speedup\n"
     ]
    }
   ],
   "source": [
    "# Evaluate validation accuracy\n",
    "cpu_errors = 0\n",
    "fpga_errors = 0\n",
    "for idx in range(BATCH):\n",
    "    fpga_label = np.argmax(c[idx])\n",
    "    cpu_label = np.argmax(c_ref[idx])\n",
    "    actual_label = np.argmax(l[idx])\n",
    "    if fpga_label != actual_label:\n",
    "        fpga_errors += 1.0\n",
    "    if cpu_label != actual_label:\n",
    "        cpu_errors += 1.0\n",
    "\n",
    "# Report results\n",
    "print(\"FPGA accuracy: {:.2f}% validation error\".format(fpga_errors / BATCH * 100))\n",
    "print(\"CPU  accuracy: {:.2f}% validation error\".format(cpu_errors / BATCH * 100))\n",
    "if cpu_time < fpga_time:\n",
    "    print(\"FPGA has a {0:.2f}x slowdown\".format(fpga_time / cpu_time))\n",
    "else:\n",
    "    print(\"FPGA has a {0:.2f}x speedup\".format(cpu_time / fpga_time))"
   ]
  },
  {
   "cell_type": "code",
   "execution_count": 9,
   "id": "3b2aeede-d55c-4cd7-ace7-61d41e30b548",
   "metadata": {},
   "outputs": [
    {
     "data": {
      "image/png": "[encoded data removed]",
      "text/plain": [
       "<Figure size 432x288 with 1 Axes>"
      ]
     },
     "metadata": {
      "needs_background": "light"
     },
     "output_type": "display_data"
    },
    {
     "name": "stdout",
     "output_type": "stream",
     "text": [
      "Classified as 9 by the FPGA\n"
     ]
    }
   ],
   "source": [
    "# Render a given numpy 2D array of pixel data.\n",
    "def show(image):\n",
    "    from matplotlib import pyplot\n",
    "    import matplotlib as mpl\n",
    "\n",
    "    fig = pyplot.figure()\n",
    "    ax = fig.add_subplot(1, 1, 1)\n",
    "    imgplot = ax.imshow(image, cmap=mpl.cm.Greys)\n",
    "    imgplot.set_interpolation(\"nearest\")\n",
    "    ax.xaxis.set_ticks_position(\"top\")\n",
    "    ax.yaxis.set_ticks_position(\"left\")\n",
    "    pyplot.show()\n",
    "\n",
    "\n",
    "# Inspect one of the hand digits classified by the FPGA\n",
    "idx = 1\n",
    "show(i[idx].reshape(16, 16))\n",
    "print(\"Classified as {} by the FPGA\".format(np.argmax(c[idx])))"
   ]
  }
 ],
 "metadata": {
  "kernelspec": {
   "display_name": "Python 3",
   "language": "python",
   "name": "python3"
  },
  "language_info": {
   "codemirror_mode": {
    "name": "ipython",
    "version": 3
   },
   "file_extension": ".py",
   "mimetype": "text/x-python",
   "name": "python",
   "nbconvert_exporter": "python",
   "pygments_lexer": "ipython3",
   "version": "3.8.2"
  }
 },
 "nbformat": 4,
 "nbformat_minor": 5
}
